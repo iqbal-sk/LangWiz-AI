{
 "cells": [
  {
   "cell_type": "code",
   "id": "initial_id",
   "metadata": {
    "collapsed": true,
    "ExecuteTime": {
     "end_time": "2024-07-17T00:58:51.926383Z",
     "start_time": "2024-07-17T00:58:51.924306Z"
    }
   },
   "source": "import os",
   "outputs": [],
   "execution_count": 1
  },
  {
   "metadata": {
    "ExecuteTime": {
     "end_time": "2024-07-17T00:58:51.929719Z",
     "start_time": "2024-07-17T00:58:51.927175Z"
    }
   },
   "cell_type": "code",
   "source": "%pwd",
   "id": "1fba3a3a54f9e6a0",
   "outputs": [
    {
     "data": {
      "text/plain": [
       "'/Users/vikkyfury/Desktop/pr/program/LangWiz-AI/research'"
      ]
     },
     "execution_count": 2,
     "metadata": {},
     "output_type": "execute_result"
    }
   ],
   "execution_count": 2
  },
  {
   "metadata": {
    "ExecuteTime": {
     "end_time": "2024-07-17T00:58:52.348175Z",
     "start_time": "2024-07-17T00:58:52.345401Z"
    }
   },
   "cell_type": "code",
   "source": "os.chdir('../')",
   "id": "9760a05bd4252e3a",
   "outputs": [],
   "execution_count": 3
  },
  {
   "metadata": {
    "ExecuteTime": {
     "end_time": "2024-07-17T00:58:52.915024Z",
     "start_time": "2024-07-17T00:58:52.911138Z"
    }
   },
   "cell_type": "code",
   "source": "%pwd",
   "id": "5679ba5124e77d65",
   "outputs": [
    {
     "data": {
      "text/plain": [
       "'/Users/vikkyfury/Desktop/pr/program/LangWiz-AI'"
      ]
     },
     "execution_count": 4,
     "metadata": {},
     "output_type": "execute_result"
    }
   ],
   "execution_count": 4
  },
  {
   "metadata": {
    "ExecuteTime": {
     "end_time": "2024-07-17T01:05:39.599533Z",
     "start_time": "2024-07-17T01:05:39.595477Z"
    }
   },
   "cell_type": "code",
   "source": [
    "from dataclasses import dataclass\n",
    "from pathlib import Path\n",
    "\n",
    "@dataclass(frozen=True)\n",
    "class DataTransformationConfig:\n",
    "    root_dir: Path\n",
    "    data_path: Path\n",
    "    tokenizer_name: Path\n",
    "    "
   ],
   "id": "539c243912a2dd70",
   "outputs": [],
   "execution_count": 5
  },
  {
   "metadata": {},
   "cell_type": "code",
   "outputs": [],
   "execution_count": null,
   "source": [
    "from LangWizAI.constants import *\n",
    "from LangWizAI.utils.common import read_yaml, create_directories"
   ],
   "id": "6d38dabcaf512507"
  },
  {
   "metadata": {},
   "cell_type": "code",
   "outputs": [],
   "execution_count": null,
   "source": [
    "class ConfigurationManager:\n",
    "    def __init__(\n",
    "        self,\n",
    "        config_filepath = CONFIG_FILE_PATH,\n",
    "        params_filepath = PARAMS_FILE_PATH):\n",
    "        self.config = read_yaml(config_filepath)\n",
    "        self.params = read_yaml(params_filepath)\n",
    "\n",
    "        create_directories([self.config.artifacts_root])\n",
    "    \n",
    "    def get_data_transformation_config(self) -> DataTransformationConfig:\n",
    "        config = self.config.data_transformation\n",
    "        create_directories([config.root_dir])\n",
    "        \n",
    "        data_transformation_config = DataTransformationConfig(\n",
    "            root_dir = self.config.root_dir,\n",
    "            data_path = self.config.data_path,\n",
    "            tokenizer_name = config.tokenizer_name\n",
    "        )\n",
    "        return data_transformation_config"
   ],
   "id": "b3f583c25a8596d0"
  },
  {
   "metadata": {},
   "cell_type": "code",
   "outputs": [],
   "execution_count": null,
   "source": [
    "import os\n",
    "from LangWizAI import logger\n",
    "from transformers import AutoTokenizer, AutoModelForSeq2SeqLM\n",
    "from datasets import load_dataset, load_from_disk"
   ],
   "id": "82fb9af06f4057c8"
  },
  {
   "metadata": {},
   "cell_type": "code",
   "outputs": [],
   "execution_count": null,
   "source": [
    "class DataTransformation:\n",
    "    def __init__(self,config: DataTransformationConfig):\n",
    "        self.config = config\n",
    "        self.tokenizer = AutoTokenizer.from_pre_trained(config.tokenizer_name)\n",
    "        \n",
    "        self.model = AutoModelForSeq2SeqLM.from_pretrained(config.tokenizer_name)\n",
    "    \n",
    "    def translate(self,example):\n",
    "        inputs = example['inputs']\n",
    "        targets = example['targets']\n",
    "        if not isinstance(inputs,(str,list)):\n",
    "            inputs = str(inputs)\n",
    "        if not isinstance(targets,(str,list)):\n",
    "            targets = str(targets)\n",
    "        input_encodings = self.tokenizer(inputs,max_length = 128, truncation = True, return_tensors = 'pt')\n",
    "        with self.tokenizer.as_target_tokenizer():\n",
    "            target_encodings= self.tokenizer(targets, max_length = 128, truncation = True, return_tensors = 'pt')\n",
    "        \n",
    "        return {\n",
    "            'input_ids' : input_encodings['input_ids'],\n",
    "            'attention_mask' : input_encodings['attention_mask'],\n",
    "            'labels': target_encodings['input_ids']       \n",
    "        }\n",
    "    \n",
    "    def convert(self):\n",
    "        data = load_from_disk(self.config.data_path)\n",
    "        data_pt = data.map(self.translate,batched =True)\n",
    "        data_pt.save_to_disk(os.path.join(self.config.root_dir,'fr-en'))"
   ],
   "id": "cb83a10a4955c031"
  },
  {
   "metadata": {},
   "cell_type": "code",
   "outputs": [],
   "execution_count": null,
   "source": [
    "try:\n",
    "    config = ConfigurationManager()\n",
    "    data_transformation_config = config.get_data_transformation_config()\n",
    "    data_transformation = DataTransformation(config = data_transformation_config)\n",
    "    data_transformation.convert()\n"
   ],
   "id": "60c9aa13548ce182"
  },
  {
   "metadata": {},
   "cell_type": "code",
   "outputs": [],
   "execution_count": null,
   "source": "",
   "id": "fcf2e00fe0373880"
  }
 ],
 "metadata": {
  "kernelspec": {
   "display_name": "Python 3",
   "language": "python",
   "name": "python3"
  },
  "language_info": {
   "codemirror_mode": {
    "name": "ipython",
    "version": 2
   },
   "file_extension": ".py",
   "mimetype": "text/x-python",
   "name": "python",
   "nbconvert_exporter": "python",
   "pygments_lexer": "ipython2",
   "version": "2.7.6"
  }
 },
 "nbformat": 4,
 "nbformat_minor": 5
}
