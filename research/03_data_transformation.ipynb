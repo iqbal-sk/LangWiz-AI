{
 "cells": [
  {
   "cell_type": "code",
   "id": "initial_id",
   "metadata": {
    "collapsed": true,
    "ExecuteTime": {
     "end_time": "2024-07-26T21:00:27.748130Z",
     "start_time": "2024-07-26T21:00:27.743125Z"
    }
   },
   "source": [
    "import os"
   ],
   "outputs": [],
   "execution_count": 1
  },
  {
   "metadata": {
    "ExecuteTime": {
     "end_time": "2024-07-26T21:00:28.229001Z",
     "start_time": "2024-07-26T21:00:28.224716Z"
    }
   },
   "cell_type": "code",
   "source": [
    "%pwd"
   ],
   "id": "1fba3a3a54f9e6a0",
   "outputs": [
    {
     "data": {
      "text/plain": "'/Users/iqbal/Desktop/LangWiz-AI/research'"
     },
     "execution_count": 2,
     "metadata": {},
     "output_type": "execute_result"
    }
   ],
   "execution_count": 2
  },
  {
   "metadata": {
    "ExecuteTime": {
     "end_time": "2024-07-26T21:00:42.085057Z",
     "start_time": "2024-07-26T21:00:42.082954Z"
    }
   },
   "cell_type": "code",
   "source": [
    "os.chdir('../')"
   ],
   "id": "9760a05bd4252e3a",
   "outputs": [],
   "execution_count": 7
  },
  {
   "metadata": {
    "ExecuteTime": {
     "end_time": "2024-07-26T21:00:42.800674Z",
     "start_time": "2024-07-26T21:00:42.797656Z"
    }
   },
   "cell_type": "code",
   "source": [
    "%pwd"
   ],
   "id": "5679ba5124e77d65",
   "outputs": [
    {
     "data": {
      "text/plain": "'/Users/iqbal/Desktop/LangWiz-AI'"
     },
     "execution_count": 8,
     "metadata": {},
     "output_type": "execute_result"
    }
   ],
   "execution_count": 8
  },
  {
   "metadata": {
    "ExecuteTime": {
     "end_time": "2024-07-26T21:12:25.837853Z",
     "start_time": "2024-07-26T21:12:25.834958Z"
    }
   },
   "cell_type": "code",
   "source": [
    "from dataclasses import dataclass\n",
    "from pathlib import Path\n",
    "\n",
    "@dataclass(frozen=True)\n",
    "class DataTransformationConfig:\n",
    "    root_dir: Path\n",
    "    data_path: Path\n",
    "    tokenizer_name: Path\n",
    "    result_dataset_path: Path\n",
    "    "
   ],
   "id": "539c243912a2dd70",
   "outputs": [],
   "execution_count": 15
  },
  {
   "metadata": {
    "ExecuteTime": {
     "end_time": "2024-07-26T21:12:26.448724Z",
     "start_time": "2024-07-26T21:12:26.446657Z"
    }
   },
   "cell_type": "code",
   "outputs": [],
   "execution_count": 16,
   "source": [
    "from LangWizAI.constants import *\n",
    "from LangWizAI.utils.common import read_yaml, create_directories"
   ],
   "id": "6d38dabcaf512507"
  },
  {
   "metadata": {
    "ExecuteTime": {
     "end_time": "2024-07-26T21:12:28.837662Z",
     "start_time": "2024-07-26T21:12:28.833558Z"
    }
   },
   "cell_type": "code",
   "outputs": [],
   "execution_count": 17,
   "source": [
    "class ConfigurationManager:\n",
    "    def __init__(\n",
    "        self,\n",
    "        config_filepath = CONFIG_FILE_PATH,\n",
    "        params_filepath = PARAMS_FILE_PATH):\n",
    "        self.config = read_yaml(config_filepath)\n",
    "        self.params = read_yaml(params_filepath)\n",
    "\n",
    "        create_directories([self.config.artifacts_root])\n",
    "    \n",
    "    def get_data_transformation_config(self) -> DataTransformationConfig:\n",
    "        config = self.config.data_transformation\n",
    "        create_directories([config.root_dir])\n",
    "        \n",
    "        print(config)\n",
    "        \n",
    "        data_transformation_config = DataTransformationConfig(\n",
    "            root_dir = config.root_dir,\n",
    "            data_path = config.data_path,\n",
    "            tokenizer_name = config.tokenizer_name,\n",
    "            result_dataset_path = config.result_dataset_path\n",
    "        )\n",
    "        return data_transformation_config"
   ],
   "id": "b3f583c25a8596d0"
  },
  {
   "metadata": {
    "ExecuteTime": {
     "end_time": "2024-07-26T21:12:29.864106Z",
     "start_time": "2024-07-26T21:12:29.861662Z"
    }
   },
   "cell_type": "code",
   "outputs": [],
   "execution_count": 18,
   "source": [
    "import os\n",
    "from LangWizAI import logger\n",
    "from transformers import AutoTokenizer, AutoModelForSeq2SeqLM\n",
    "from datasets import load_dataset, load_from_disk"
   ],
   "id": "82fb9af06f4057c8"
  },
  {
   "metadata": {
    "ExecuteTime": {
     "end_time": "2024-07-27T01:37:53.494435Z",
     "start_time": "2024-07-27T01:37:53.489279Z"
    }
   },
   "cell_type": "code",
   "outputs": [],
   "execution_count": 43,
   "source": [
    "class DataTransformation:\n",
    "    def __init__(self,config: DataTransformationConfig):\n",
    "        self.config = config\n",
    "        self.tokenizer = AutoTokenizer.from_pretrained(config.tokenizer_name)\n",
    "        \n",
    "        self.model = AutoModelForSeq2SeqLM.from_pretrained(config.tokenizer_name)\n",
    "    \n",
    "    def translate(self, example):\n",
    "        # print(example)\n",
    "        \n",
    "        inputs = example['source_text']\n",
    "        # print(inputs)\n",
    "        targets = example['target_text']\n",
    "        \n",
    "        if not isinstance(inputs,(str,list)):\n",
    "            inputs = str(inputs)\n",
    "        if not isinstance(targets,(str,list)):\n",
    "            targets = str(targets)\n",
    "            \n",
    "        # print(inputs)\n",
    "        input_encodings = self.tokenizer(inputs, max_length = 128,\n",
    "                                         truncation=True, padding=True,\n",
    "                                         return_tensors = 'pt')\n",
    "        with self.tokenizer.as_target_tokenizer():\n",
    "            target_encodings= self.tokenizer(targets, max_length = 128,\n",
    "                                         truncation=True, padding=True,\n",
    "                                         return_tensors = 'pt')\n",
    "        \n",
    "        return {\n",
    "            'input_ids' : input_encodings['input_ids'],\n",
    "            'attention_mask' : input_encodings['attention_mask'],\n",
    "            'labels': target_encodings['input_ids']       \n",
    "        }\n",
    "    \n",
    "    def convert(self):\n",
    "        data = load_dataset('csv', data_dir=Path(self.config.data_path))\n",
    "        data_pt = data.map(self.translate, batched =True)\n",
    "        data_pt.save_to_disk(self.config.result_dataset_path)"
   ],
   "id": "cb83a10a4955c031"
  },
  {
   "metadata": {
    "ExecuteTime": {
     "end_time": "2024-07-27T01:45:14.188908Z",
     "start_time": "2024-07-27T01:37:54.268453Z"
    }
   },
   "cell_type": "code",
   "outputs": [
    {
     "name": "stdout",
     "output_type": "stream",
     "text": [
      "[2024-07-27 07:07:54,271: INFO: common: yaml file: config/config.yaml loaded successfully]\n",
      "[2024-07-27 07:07:54,272: INFO: common: yaml file: params.yaml loaded successfully]\n",
      "[2024-07-27 07:07:54,273: INFO: common: created directory at: artifacts]\n",
      "[2024-07-27 07:07:54,273: INFO: common: created directory at: artifacts/data_transformation]\n",
      "{'root_dir': 'artifacts/data_transformation', 'data_path': 'artifacts/data/europarl/processed/fr_en', 'result_dataset_path': 'artifacts/data_transformation/europarl/processed/fr_e', 'tokenizer_name': 'Helsinki-NLP/opus-mt-fr-en'}\n"
     ]
    },
    {
     "data": {
      "text/plain": "Map:   0%|          | 0/1905251 [00:00<?, ? examples/s]",
      "application/vnd.jupyter.widget-view+json": {
       "version_major": 2,
       "version_minor": 0,
       "model_id": "b2815a488bcc48ea995c927caad09e2a"
      }
     },
     "metadata": {},
     "output_type": "display_data"
    },
    {
     "data": {
      "text/plain": "Saving the dataset (0/8 shards):   0%|          | 0/1905251 [00:00<?, ? examples/s]",
      "application/vnd.jupyter.widget-view+json": {
       "version_major": 2,
       "version_minor": 0,
       "model_id": "db2b6eb1b39546e79cddae865198105b"
      }
     },
     "metadata": {},
     "output_type": "display_data"
    }
   ],
   "execution_count": 44,
   "source": [
    "config = ConfigurationManager()\n",
    "data_transformation_config = config.get_data_transformation_config()\n",
    "data_transformation = DataTransformation(config = data_transformation_config)\n",
    "data_transformation.convert()"
   ],
   "id": "60c9aa13548ce182"
  },
  {
   "metadata": {},
   "cell_type": "code",
   "outputs": [],
   "execution_count": null,
   "source": [],
   "id": "fcf2e00fe0373880"
  }
 ],
 "metadata": {
  "kernelspec": {
   "display_name": "Python 3",
   "language": "python",
   "name": "python3"
  },
  "language_info": {
   "codemirror_mode": {
    "name": "ipython",
    "version": 2
   },
   "file_extension": ".py",
   "mimetype": "text/x-python",
   "name": "python",
   "nbconvert_exporter": "python",
   "pygments_lexer": "ipython2",
   "version": "2.7.6"
  }
 },
 "nbformat": 4,
 "nbformat_minor": 5
}
