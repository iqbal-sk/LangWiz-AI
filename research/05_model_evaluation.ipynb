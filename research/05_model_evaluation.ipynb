{
 "cells": [
  {
   "cell_type": "code",
   "execution_count": null,
   "id": "initial_id",
   "metadata": {
    "collapsed": true
   },
   "outputs": [],
   "source": "!pip install --upgrade accelerator"
  },
  {
   "metadata": {},
   "cell_type": "code",
   "outputs": [],
   "execution_count": null,
   "source": "!pip uninstall y transformers accelerate",
   "id": "5ecb5a436132343f"
  },
  {
   "metadata": {},
   "cell_type": "code",
   "outputs": [],
   "execution_count": null,
   "source": "!pip install transformers accelerate",
   "id": "be5f561d3b818a79"
  },
  {
   "metadata": {},
   "cell_type": "code",
   "outputs": [],
   "execution_count": null,
   "source": "import os",
   "id": "98bed13d8f17dca"
  },
  {
   "metadata": {},
   "cell_type": "code",
   "outputs": [],
   "execution_count": null,
   "source": "%pwd",
   "id": "cff00ebd5528828e"
  },
  {
   "metadata": {},
   "cell_type": "code",
   "outputs": [],
   "execution_count": null,
   "source": "os.chdir('../')",
   "id": "ff5d9453c35fb32a"
  },
  {
   "metadata": {},
   "cell_type": "code",
   "outputs": [],
   "execution_count": null,
   "source": "%pwd",
   "id": "1566a43bf3606883"
  },
  {
   "metadata": {},
   "cell_type": "code",
   "outputs": [],
   "execution_count": null,
   "source": [
    "from dataclasses import dataclass\n",
    "from pathlib import Path\n",
    "\n",
    "@dataclass(frozen=True)\n",
    "class ModelEvaluationConfig:\n",
    "    root_dir: Path\n",
    "    data_path: Path\n",
    "    model_path: Path\n",
    "    tokenizer_path: Path\n",
    "    metric_file_name: Path"
   ],
   "id": "5448547fef085f3d"
  },
  {
   "metadata": {},
   "cell_type": "code",
   "outputs": [],
   "execution_count": null,
   "source": [
    "from LangWizAI.constants import *\n",
    "from LangWizAI.utils.common import read_yaml, create_directories"
   ],
   "id": "e321bb8c08904116"
  },
  {
   "metadata": {},
   "cell_type": "code",
   "outputs": [],
   "execution_count": null,
   "source": [
    "class ConfigurationManager:\n",
    "    def __init__(\n",
    "        self,\n",
    "        config_filepath = CONFIG_FILE_PATH,\n",
    "        params_filepath = PARAMS_FILE_PATH):\n",
    "        self.config = read_yaml(config_filepath)\n",
    "        self.params = read_yaml(params_filepath)\n",
    "\n",
    "        create_directories([self.config.artifacts_root])\n",
    "    def get_model_evaluation_config(self) -> ModelEvaluationConfig:\n",
    "        config = self.config.model_evaluation\n",
    "        create_directories([config.root_dir])\n",
    "        \n",
    "        model_evaluation_config = ModelEvaluationConfig(\n",
    "            root_dir = self.config.root_dir,\n",
    "            data_path = config.data.path,\n",
    "            model_path = config.model.path,\n",
    "            tokenizer_path = config.tokenizer_path,\n",
    "            metric_file_name = config.metric_file_name\n",
    "        )\n",
    "        \n",
    "        return model_evaluation_config\n",
    "        "
   ],
   "id": "c9fc868d3a12dffa"
  },
  {
   "metadata": {},
   "cell_type": "code",
   "outputs": [],
   "execution_count": null,
   "source": [
    "from transformers import AutoModelForSeq2SeqLM, AutoTokenizer\n",
    "from datasets import load_dataset, load_from_disk, load_metric\n",
    "import torch\n",
    "import pandas as pd\n",
    "from tqbdm import tqdm\n",
    "from nltk.translate.bleu_score import sentence_bleu"
   ],
   "id": "6b3a55e7df7a2cec"
  },
  {
   "metadata": {},
   "cell_type": "code",
   "outputs": [],
   "execution_count": null,
   "source": [
    "class ModelEvaluation:\n",
    "    def __init__(self, config:ModelEvaluationConfig):\n",
    "        self.config = config\n",
    "        \n",
    "    def generate_batch_sized_chunks(selfself,list_of_elements, batch_size):\n",
    "        for i in range(0, len(list_of_elements), batch_size):\n",
    "            yield list_of_elements[i:i+batch_size]\n",
    "            \n",
    "    def calculate_metric_on_test_ds(self,dataset,metric, model, tokenizer, batch_size=16,device = 'cuda' if torch.cuda.is_available() else 'cpu', column_input_text = 'source',column_output_text = 'reference'):\n",
    "        input_batches = list(self.generate_batch_sized_chunks(dataset[column_input_text],batch_size))\n",
    "        target_batches=list(self.generate_batch_sized_chunks(dataset[column_output_text], batch_size))\n",
    "        \n",
    "        for input_batch, target_batch in tqdm(\n",
    "            zip(input_batches,target_batches),total=len(input_batches):\n",
    "            \n",
    "            inputs = tokenizer(input_batch,max_length=128, truncation  =True, Padding = 'max_length', return_tensors = 'pt')\n",
    "            \n",
    "            outputs = model.generate(input_ids = inputs['input_ids'].to(device), \n",
    "                                     attention_mask = inputs['attention_mask'].to(device),\n",
    "                                     length_penalty = 0.8, num_beams = 8, max_length =128)\n",
    "            \n",
    "            \n",
    "            decoded_outputs= [tokenizer.decode(s, skip_special_tokens = True, clean_up_tokenization_spaces = True) for s in outputs]\n",
    "            \n",
    "            decoded_outputs = [d.replace(\"\", \" \") for d in decoded_outputs]\n",
    "            \n",
    "            metrics = add_batch(predictions=decoded_outputs,references=target_batch)\n",
    "            \n",
    "        score = metric.compute()\n",
    "        return score\n",
    "    \n",
    "    def evaluate(self):\n",
    "        device = 'cuda' if torch.cuda.is_available() else 'cpu'\n",
    "        tokenizer = AutoTokenizer.from_pretrained(self.config.tokenizer_path)\n",
    "        fr_en_model = AutoModelForSeq2SeqLM.from_pretrained(self.config.model_path).to(device)\n",
    "        \n",
    "        data_pt = load_from_disk(self.config.data_path)\n",
    "        \n",
    "        bleu_metric = load_metric('sentence_bleu')\n",
    "        \n",
    "        score = self.calculate_metric_on_test_ds(data_pt['test'][0:10], bleu_metric, model='fr_en_model',tokenizer= 'fr_en_tokenizer', batch_size =2, column_input_text = 'source',column_output_text = 'reference')\n",
    "        \n",
    "        df = pd.DataFrame(score, index = ['fr_en'])\n",
    "        df.to_csv(self.config.metric_file_name, index = False)\n",
    "        \n",
    "            \n",
    "    "
   ],
   "id": "889d4656dd8c2b60"
  },
  {
   "metadata": {},
   "cell_type": "code",
   "outputs": [],
   "execution_count": null,
   "source": [
    "try:\n",
    "    config = ConfigurationManager()\n",
    "    model_evaluation_config = config.get_model_evaluation_config()\n",
    "    model_evaluation_config = ModelEvaluation(config= model_evaluation_config)\n",
    "    model_evaluation_config.evaluate()\n",
    "except Exception as e:\n",
    "    raise e"
   ],
   "id": "d181f17934b271cb"
  }
 ],
 "metadata": {
  "kernelspec": {
   "display_name": "Python 3",
   "language": "python",
   "name": "python3"
  },
  "language_info": {
   "codemirror_mode": {
    "name": "ipython",
    "version": 2
   },
   "file_extension": ".py",
   "mimetype": "text/x-python",
   "name": "python",
   "nbconvert_exporter": "python",
   "pygments_lexer": "ipython2",
   "version": "2.7.6"
  }
 },
 "nbformat": 4,
 "nbformat_minor": 5
}
