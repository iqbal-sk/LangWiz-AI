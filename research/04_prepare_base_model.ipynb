{
 "cells": [
  {
   "metadata": {},
   "cell_type": "code",
   "outputs": [],
   "execution_count": null,
   "source": "!pip install --upgrade accelerator",
   "id": "ffcbb7b514f8d5db"
  },
  {
   "metadata": {},
   "cell_type": "code",
   "outputs": [],
   "execution_count": null,
   "source": "!pip uninstall y transformers accelerate",
   "id": "7e6bcbc3baf675e3"
  },
  {
   "metadata": {},
   "cell_type": "code",
   "outputs": [],
   "execution_count": null,
   "source": "!pip install transformers accelerate",
   "id": "ca4f7aa8b503431f"
  },
  {
   "metadata": {},
   "cell_type": "code",
   "outputs": [],
   "execution_count": 1,
   "source": "import os",
   "id": "9077fe5875cbe9bb"
  },
  {
   "metadata": {
    "ExecuteTime": {
     "end_time": "2024-07-17T01:48:39.708939Z",
     "start_time": "2024-07-17T01:48:39.703521Z"
    }
   },
   "cell_type": "code",
   "source": "%pwd",
   "id": "2fa54e9351711ae0",
   "outputs": [
    {
     "data": {
      "text/plain": [
       "'/Users/vikkyfury/Desktop/pr/program/LangWiz-AI/research'"
      ]
     },
     "execution_count": 2,
     "metadata": {},
     "output_type": "execute_result"
    }
   ],
   "execution_count": 2
  },
  {
   "metadata": {
    "ExecuteTime": {
     "end_time": "2024-07-17T01:48:40.138611Z",
     "start_time": "2024-07-17T01:48:40.136814Z"
    }
   },
   "cell_type": "code",
   "source": "os.chdir('../')",
   "id": "c0addce702ce717",
   "outputs": [],
   "execution_count": 3
  },
  {
   "metadata": {
    "ExecuteTime": {
     "end_time": "2024-07-17T01:48:40.658271Z",
     "start_time": "2024-07-17T01:48:40.654719Z"
    }
   },
   "cell_type": "code",
   "source": "%pwd",
   "id": "e51e403abfc14985",
   "outputs": [
    {
     "data": {
      "text/plain": [
       "'/Users/vikkyfury/Desktop/pr/program/LangWiz-AI'"
      ]
     },
     "execution_count": 4,
     "metadata": {},
     "output_type": "execute_result"
    }
   ],
   "execution_count": 4
  },
  {
   "metadata": {
    "ExecuteTime": {
     "end_time": "2024-07-15T03:57:40.564489Z",
     "start_time": "2024-07-15T03:57:40.559997Z"
    }
   },
   "cell_type": "code",
   "source": [
    "from dataclasses import dataclass\n",
    "from pathlib import Path\n",
    "\n",
    "@dataclass(frozen=True)\n",
    "class PrepareBaseModelConfig:\n",
    "    root_dir: Path\n",
    "    data_path:Path\n",
    "    model_ckpt:Path\n",
    "    num_train_epochs = int\n",
    "    evaluation_strategy= str\n",
    "    save_strategy= str\n",
    "    learning_rate= float\n",
    "    per_device_train_batch_size= int\n",
    "    per_device_eval_batch_size= int\n",
    "    weight_decay= float\n",
    "    save_total_limit= int\n",
    "    predict_with_generate= bool\n",
    "    fp16= bool\n",
    "    push_to_hub= bool"
   ],
   "id": "3f1eae9dc0e11c04",
   "outputs": [],
   "execution_count": 43
  },
  {
   "metadata": {},
   "cell_type": "code",
   "outputs": [],
   "execution_count": null,
   "source": [
    "from LangWizAI.constants import *\n",
    "from LangWizAI.utils.common import read_yaml, create_directories"
   ],
   "id": "3fd3e7148ab2f5e1"
  },
  {
   "metadata": {},
   "cell_type": "code",
   "outputs": [],
   "execution_count": null,
   "source": [
    "class ConfigurationManager:\n",
    "    def __init__(\n",
    "        self,\n",
    "        config_filepath = CONFIG_FILE_PATH,\n",
    "        params_filepath = PARAMS_FILE_PATH):\n",
    "        self.config = read_yaml(config_filepath)\n",
    "        self.params = read_yaml(params_filepath)\n",
    "\n",
    "        create_directories([self.config.artifacts_root])\n",
    "        \n",
    "    def get_prepare_base_model_config(self) -> PrepareBaseModelConfig:\n",
    "        config =self.config.prepare_base_model\n",
    "        params = self.params.TrainingArguements\n",
    "        \n",
    "        create_directories([config.root_dir])\n",
    "        \n",
    "        prepare_base_model_config = PrepareBaseModelConfig(\n",
    "            root_dir = config.root_dir,\n",
    "            data_path = config.data_path,\n",
    "            model_ckpt = config.model_ckpt,\n",
    "            num_train_epochs = params.num_train_epochs,\n",
    "            evaluation_strategy = params.evaluation_strategy,\n",
    "            save_strategy = params.save_strategy,\n",
    "            learning_rate = params.learning_rate,\n",
    "            per_device_train_batch_size = params.per_device_train_batch_size,\n",
    "            per_device_eval_batch_size= params.per_device_eval_batch_size,\n",
    "            weight_decay= params.weight_decay,\n",
    "            save_total_limit= params.save_total_limit,\n",
    "            num_train_epochs= params.num_train_epochs,\n",
    "            predict_with_generate= params.predict_with_generate,\n",
    "            fp16 = params.fp16,\n",
    "            push_to_hub = params.push_to_hub    \n",
    "        )\n",
    "        return prepare_base_model_config\n",
    "        \n",
    "        "
   ],
   "id": "da82ee821f28f7f9"
  },
  {
   "metadata": {},
   "cell_type": "code",
   "outputs": [],
   "execution_count": null,
   "source": [
    "from transformers import TrainingArguments, Trainer\n",
    "from transformers import DataCollatorForSeq2Seq\n",
    "from transformers import AutoModelForSeq2SeqLM, AutoTokenizer\n",
    "from datasets import load_dataset, load_from_disk\n",
    "import torch"
   ],
   "id": "79740e622e33b09c"
  },
  {
   "metadata": {},
   "cell_type": "code",
   "outputs": [],
   "execution_count": null,
   "source": [
    "class PrepareBaseModel:\n",
    "    def __init__(self, config: PrepareBaseModelConfig):\n",
    "        self.config = config\n",
    "        \n",
    "    def train(self):\n",
    "        device = \"cuda\" if torch.cuda.is_available() else \"cpu\"\n",
    "        tokenizer = AutoTokenizer.from_pretrained(self.config.model_ckpt)\n",
    "        model_fr_en = AutoModelForSeq2SeqLM.from_pre_trained(self.config.model_ckpt).to(device)\n",
    "        seq2seq_data_collator = DataCollatorForSeq2Seq(tokenizer,model = model_fr_en)\n",
    "        \n",
    "        data_pt = load_from_disk(self.config.data_path)\n",
    "        \n",
    "        trainer_args = TrainingArguments(\n",
    "            output_dir=self.config.root_dir,\n",
    "            num_train_epochs = self.config.num_train_epochs,\n",
    "            evaluation_strategy = self.config.evaluation_strategy,\n",
    "            save_strategy = self.config.save_strategy,\n",
    "            learning_rate = self.config.learning_rate,\n",
    "            per_device_train_batch_size = self.config.per_device_train_batch_size,\n",
    "            per_device_eval_batch_size= self.config.per_device_eval_batch_size,\n",
    "            weight_decay= self.config.weight_decay,\n",
    "            save_total_limit= self.config.save_total_limit,\n",
    "            predict_with_generate= self.config.predict_with_generate,\n",
    "            fp16= self.config.fp16,\n",
    "            push_to_hub= self.config.push_to_hub\n",
    "        )\n",
    "        \n",
    "        trainer = Trainer(\n",
    "            model = model_fr_en, args = trainer_args,\n",
    "            tokenizer = tokenizer, data_collator = seq2seq_data_collator,\n",
    "            train_dataset = data_pt['train'],\n",
    "            eval_dataset = data_pt['eval'] \n",
    "        )\n",
    "        trainer.train()\n",
    "        \n",
    "        model_fr_en.save_pretrained(os.path.join(self.config.root_dir,'fr_en_model'))\n",
    "        tokenizer.save_pretrained(os.path.join(self.config.root_dir,'fr_en_tokenizer'))"
   ],
   "id": "ba6fb76a66f7184f"
  },
  {
   "metadata": {},
   "cell_type": "code",
   "outputs": [],
   "execution_count": null,
   "source": [
    "try:\n",
    "    config = ConfigurationManager()\n",
    "    model_trainer_config = config.get_prepare_base_model_config()\n",
    "    model_trainer_config = PrepareBaseModel(config= model_trainer_config)\n",
    "    model_trainer_config.train()\n",
    "except Exception as e:\n",
    "    raise e"
   ],
   "id": "752da86ab095763f"
  }
 ],
 "metadata": {
  "kernelspec": {
   "display_name": "Python 3",
   "language": "python",
   "name": "python3"
  },
  "language_info": {
   "codemirror_mode": {
    "name": "ipython",
    "version": 2
   },
   "file_extension": ".py",
   "mimetype": "text/x-python",
   "name": "python",
   "nbconvert_exporter": "python",
   "pygments_lexer": "ipython2",
   "version": "2.7.6"
  }
 },
 "nbformat": 4,
 "nbformat_minor": 5
}
